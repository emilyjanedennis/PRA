{
 "cells": [
  {
   "cell_type": "code",
   "execution_count": 2,
   "metadata": {},
   "outputs": [],
   "source": [
    "import os, sys, time, glob, json, math, warnings, csv\n",
    "import tifffile as tif\n",
    "import matplotlib.pyplot as plt\n",
    "from matplotlib.colors import ListedColormap\n",
    "import seaborn as sns\n",
    "import numpy as np\n",
    "import pandas as pd\n",
    "import scipy.spatial.distance as spd\n",
    "import scipy.cluster as scc\n",
    "import scipy.cluster.hierarchy as shc\n",
    "from scipy.cluster.hierarchy import dendrogram, linkage, cophenet, fcluster\n",
    "from sklearn.cluster import AgglomerativeClustering\n",
    "import scipy\n",
    "from scipy.spatial.distance import pdist\n",
    "from scipy.ndimage.interpolation import zoom\n",
    "from scipy import ndimage\n",
    "\n",
    "from itertools import chain"
   ]
  },
  {
   "cell_type": "code",
   "execution_count": 3,
   "metadata": {},
   "outputs": [],
   "source": [
    "# have you run this before? if so, try make_grid = 0 to skip long waits for computing\n",
    "#else use make_grid = 1\n",
    "make_grid = 0"
   ]
  },
  {
   "cell_type": "code",
   "execution_count": 4,
   "metadata": {},
   "outputs": [],
   "source": [
    "# location of your repo clone\n",
    "sys.path.append(\"../../..\")"
   ]
  },
  {
   "cell_type": "code",
   "execution_count": 5,
   "metadata": {},
   "outputs": [],
   "source": [
    "# base path\n",
    "src = \"/home/emilyjanedennis/Desktop/\""
   ]
  },
  {
   "cell_type": "code",
   "execution_count": 6,
   "metadata": {},
   "outputs": [],
   "source": [
    "def get_dists(val,list_of_vals):\n",
    "    dists = []\n",
    "    for comp_val in list_of_vals:\n",
    "        dists.append(math.dist(val,comp_val))\n",
    "    return dists"
   ]
  },
  {
   "cell_type": "code",
   "execution_count": 7,
   "metadata": {},
   "outputs": [],
   "source": [
    "def make_heatmap(matrix):\n",
    "    fig, ax = plt.subplots(figsize=(100,30))\n",
    "    heatmap = ax.pcolor(matrix, cmap=plt.cm.bone_r)\n",
    "\n",
    "    # put the major ticks at the middle of each cell\n",
    "    ax.set_xticks(np.arange(matrix.shape[1])+0.5, minor=False)\n",
    "    ax.set_yticks(np.arange(matrix.shape[0])+0.5, minor=False)\n",
    "\n",
    "    ax.set_xlim([0, matrix.shape[1]])\n",
    "    ax.set_ylim([0, matrix.shape[0]])          \n",
    "\n",
    "    # want a more natural, table-like display\n",
    "    ax.invert_yaxis()\n",
    "    ax.xaxis.tick_top()\n",
    "    return fig, ax"
   ]
  },
  {
   "cell_type": "code",
   "execution_count": 8,
   "metadata": {},
   "outputs": [],
   "source": [
    "def get_dist(original_coords,new_coords):\n",
    "    tst=np.array(new_coords)\n",
    "    squared_dist = np.sum((original_coords-tst)**2, axis=0)\n",
    "    dist = np.sqrt(squared_dist)\n",
    "    return dist"
   ]
  },
  {
   "cell_type": "code",
   "execution_count": 9,
   "metadata": {},
   "outputs": [],
   "source": [
    "def get_cosine_sim(vect,matrix_for_comparison):\n",
    "    #cosine similarity\n",
    "    list_of_cosines=[]\n",
    "    for val in matrix_for_comparison:\n",
    "        list_of_cosines.append(spd.cosine(vect,val))\n",
    "    cosine_sorted_indices = np.argsort(list_of_cosines)\n",
    "    cosine_sorted = list_of_cosines.copy()\n",
    "    cosine_sorted.sort()\n",
    "    return cosine_sorted"
   ]
  },
  {
   "cell_type": "code",
   "execution_count": 10,
   "metadata": {},
   "outputs": [],
   "source": [
    "def get_similar_vals_and_save(n,matrix):\n",
    "    vect=matrix[n]\n",
    "    matrix_for_comparison=np.array(matrix)\n",
    "\n",
    "    # find most similar vector(s)\n",
    "    #cosine similarity\n",
    "    list_of_cosines=[]\n",
    "    for val in matrix_for_comparison:\n",
    "        list_of_cosines.append(spd.cosine(vect,val))\n",
    "    cosine_sorted_indices = np.argsort(list_of_cosines)\n",
    "    cosine_sorted = list_of_cosines.copy()\n",
    "    cosine_sorted.sort()\n",
    "    num_cosines_to_plot = np.sum([np.array(cosine_sorted) < 0.15])\n",
    "\n",
    "    # plot\n",
    "    if num_cosines_to_plot < 4:\n",
    "        num_cosines_to_plot=4\n",
    "    cosine_to_plot = matrix_for_comparison[cosine_sorted_indices[0:int(num_cosines_to_plot)]]\n",
    "\n",
    "\n",
    "    plt.figure(figsize=(10,7))\n",
    "    for i in np.arange(0,num_cosines_to_plot):\n",
    "        plt.plot(cosine_to_plot[i],'k',alpha=0.1)\n",
    "        plt.plot(vect,'k',alpha=0.1)\n",
    "    plt.title('{} most similar expression patterns \\n cosines {}'.format(num_cosines_to_plot,cosine_sorted[0:int(num_cosines_to_plot)]))\n",
    "    plt.savefig('../../../../../most_similar_to_{}.eps'.format(row_labels[cosine_sorted_indices[0]]))\n"
   ]
  },
  {
   "cell_type": "code",
   "execution_count": 11,
   "metadata": {},
   "outputs": [],
   "source": [
    "def get_segmented_and_bool_vols_in_atlvol(cells_floored,bool_cell_vol,segmented_cell_vol,atlvol):\n",
    "    for i in np.arange(0,np.shape(cells_floored)[0]):\n",
    "        z,y,x=cells_floored[i]\n",
    "        try:\n",
    "            bool_cell_vol[z,y,x]=1\n",
    "            if atlvol[z,y,x]>0:\n",
    "                segmented_cell_vol[z,y,x]=atlvol[z,y,x]\n",
    "        except:\n",
    "            print(\"{} failed\".format(i))\n",
    "    return bool_cell_vol, segmented_cell_vol"
   ]
  },
  {
   "cell_type": "code",
   "execution_count": 12,
   "metadata": {},
   "outputs": [],
   "source": [
    "def get_closest_vals(vect,matrix_for_comparison):\n",
    "\n",
    "    # find most similar vector(s)\n",
    "    #cosine similarity\n",
    "    list_of_cosines=[]\n",
    "    for val in matrix_for_comparison:\n",
    "        list_of_cosines.append(spd.cosine(vect,val))\n",
    "    cosine_sorted_indices = np.argsort(list_of_cosines)\n",
    "    cosine_sorted = list_of_cosines.copy()\n",
    "    cosine_sorted.sort()\n",
    "    num_cosines_to_plot = int(np.sum([np.array(cosine_sorted) < 0.15]))\n",
    "\n",
    "    # plot\n",
    "    if num_cosines_to_plot < 4:\n",
    "        num_cosines_to_plot=4\n",
    "    cosine_list = cosine_sorted_indices[0:num_cosines_to_plot]\n",
    "    print(cosine_sorted[0:num_cosines_to_plot])\n",
    "    cosine_to_plot = matrix_for_comparison[cosine_sorted_indices[0:int(num_cosines_to_plot)]]\n",
    "    return cosine_list, cosine_to_plot\n",
    "    "
   ]
  },
  {
   "cell_type": "code",
   "execution_count": 13,
   "metadata": {},
   "outputs": [],
   "source": [
    "def get_cosine_matrix(input_matrix):\n",
    "    all_cosines=[]\n",
    "    list_of_cosines=[]\n",
    "    for i in np.arange(0,len(input_matrix)):\n",
    "        list_of_cosines=[]\n",
    "        val_row=input_matrix[i]\n",
    "        for row in input_matrix:\n",
    "            list_of_cosines.append(spd.cosine(row,val_row))\n",
    "        all_cosines.append(list_of_cosines)\n",
    "    return all_cosines"
   ]
  },
  {
   "cell_type": "code",
   "execution_count": 27,
   "metadata": {},
   "outputs": [],
   "source": [
    "def remove_unwanted_columns(input_df):\n",
    "    list_to_rm=[col for col in input_df.columns if 'Unnamed' in col]\n",
    "    output_df=input_df.drop(columns=list_to_rm)\n",
    "    return output_df"
   ]
  },
  {
   "cell_type": "code",
   "execution_count": 64,
   "metadata": {},
   "outputs": [],
   "source": [
    "# inputs: vect, matrix for comparison\n",
    "# outputs: cosine_list, cosine_indices, similar_vectors\n",
    "def get_similar_vectors(vect,matrix_for_comparison,min_num_cosines):\n",
    "    list_of_cosines=[]\n",
    "    for val in matrix_for_comparison:\n",
    "        list_of_cosines.append(spd.cosine(vect,val))\n",
    "    cosine_sorted_indices = np.argsort(list_of_cosines)\n",
    "    cosine_sorted = list_of_cosines.copy()\n",
    "    cosine_sorted.sort()\n",
    "    num_cosines_to_plot = int(np.sum([np.array(cosine_sorted) < 0.5]))\n",
    "    if num_cosines_to_plot < int(min_num_cosines):\n",
    "        num_cosines_to_plot=int(min_num_cosines)\n",
    "    cosine_list = cosine_sorted[0:num_cosines_to_plot]\n",
    "    cosine_indices = cosine_sorted_indices[0:num_cosines_to_plot]\n",
    "    similar_vectors=[matrix_for_comparison[val] for val in cosine_sorted_indices[0:int(num_cosines_to_plot)]]\n",
    "    return cosine_list, cosine_indices, similar_vectors"
   ]
  },
  {
   "cell_type": "code",
   "execution_count": 14,
   "metadata": {},
   "outputs": [],
   "source": [
    "fld = '/home/emilyjanedennis/Desktop/ratmouse/'"
   ]
  },
  {
   "cell_type": "code",
   "execution_count": 15,
   "metadata": {},
   "outputs": [],
   "source": [
    "sigma_lab = pd.read_csv('/home/emilyjanedennis/Desktop/for_registration_to_lightsheet/labels/SIGMA_in_PRA.csv')"
   ]
  },
  {
   "cell_type": "code",
   "execution_count": 14,
   "metadata": {},
   "outputs": [],
   "source": [
    "matlas_in_mPRA = tif.imread('/home/emilyjanedennis/Desktop/for_registration_to_lightsheet/tiffs/matlas_grid_30_in_mPRA.tif')\n",
    "df_30 = pd.read_csv('/home/emilyjanedennis/Desktop/for_registration_to_lightsheet/labels/grid_with_vx.csv')"
   ]
  },
  {
   "cell_type": "code",
   "execution_count": 16,
   "metadata": {},
   "outputs": [],
   "source": [
    "# get rat in matlas\n",
    "# take bool cell volumes, segment, make vector\n",
    "fld_of_bool = '/home/emilyjanedennis/Desktop/ratmouse'\n",
    "vect_out = '/home/emilyjanedennis/Desktop/ratmouse_output'\n",
    "mouse_expids_in_matlas = pd.read_csv('/home/emilyjanedennis/Desktop/2021_raritan/df_30.csv')\n",
    "mouse_grid_vals = list(mouse_expids_in_matlas.grid_id)\n",
    "rat_in_matlas= pd.read_csv('/home/emilyjanedennis/Desktop/df_30_rat_12062021.csv')"
   ]
  },
  {
   "cell_type": "code",
   "execution_count": 28,
   "metadata": {},
   "outputs": [],
   "source": [
    "df_30_rat=remove_unwanted_columns(rat_in_matlas)"
   ]
  },
  {
   "cell_type": "code",
   "execution_count": 59,
   "metadata": {},
   "outputs": [
    {
     "name": "stdout",
     "output_type": "stream",
     "text": [
      "grid_id\n",
      "skipping grid_id\n",
      "M122\n",
      "skipping M122\n",
      "j317\n",
      "z267\n",
      "z265\n",
      "z266\n",
      "e153\n",
      "e144\n",
      "z268\n",
      "j319\n",
      "m128\n",
      "skipping m128\n",
      "e142\n",
      "j316\n",
      "voxels\n",
      "skipping voxels\n"
     ]
    }
   ],
   "source": [
    "col_nms=[]\n",
    "df_30_rat_norm = pd.DataFrame(df_30_rat.grid_id)\n",
    "for col_nm in df_30_rat.columns:\n",
    "    print(col_nm)\n",
    "    if col_nm not in ['grid_id','voxels','M122','m128']:\n",
    "        df_30_rat_norm.insert(1,col_nm,np.divide(df_30_rat[col_nm],np.max(df_30_rat[col_nm])))\n",
    "        col_nms.append(col_nm)\n",
    "    else:\n",
    "        print('skipping {}'.format(col_nm))\n",
    "    df_30_rat_norm"
   ]
  },
  {
   "cell_type": "code",
   "execution_count": 30,
   "metadata": {},
   "outputs": [],
   "source": [
    "# make/get mouse data in matlas"
   ]
  },
  {
   "cell_type": "code",
   "execution_count": 31,
   "metadata": {},
   "outputs": [],
   "source": [
    "mouse_expids_in_matlas[mouse_expids_in_matlas.index==0]=0 #ignore vx outside regions"
   ]
  },
  {
   "cell_type": "code",
   "execution_count": 34,
   "metadata": {},
   "outputs": [],
   "source": [
    "mouse_expids_in_matlas=remove_unwanted_columns(mouse_expids_in_matlas).drop(columns=['e142','e144','grid_id','voxels'])"
   ]
  },
  {
   "cell_type": "code",
   "execution_count": 36,
   "metadata": {},
   "outputs": [
    {
     "data": {
      "text/plain": [
       "Index(['272824561', '113400134', '117317884', '180073473', '127710392',\n",
       "       '307297141', '180917660', '174360333', '100140949', '156978574',\n",
       "       ...\n",
       "       '126523066', '304564721', '125361005', '272782668', '159648854',\n",
       "       '121509711', '180981417', '158314987', '584903636', '304762965'],\n",
       "      dtype='object', length=419)"
      ]
     },
     "execution_count": 36,
     "metadata": {},
     "output_type": "execute_result"
    }
   ],
   "source": [
    "mouse_matlas_expids = mouse_expids_in_matlas.columns\n",
    "mouse_matlas_expids"
   ]
  },
  {
   "cell_type": "code",
   "execution_count": 55,
   "metadata": {},
   "outputs": [
    {
     "name": "stderr",
     "output_type": "stream",
     "text": [
      "/tmp/ipykernel_238720/206674776.py:1: FutureWarning: Method .as_matrix will be removed in a future version. Use .values instead.\n",
      "  df_30_mouse_matrix=mouse_expids_in_matlas.as_matrix().transpose()\n"
     ]
    },
    {
     "data": {
      "text/plain": [
       "(419, 2649)"
      ]
     },
     "execution_count": 55,
     "metadata": {},
     "output_type": "execute_result"
    }
   ],
   "source": [
    "df_30_mouse_matrix=mouse_expids_in_matlas.as_matrix().transpose()\n",
    "\n",
    "mouse_matrix_in_matlas=[]\n",
    "for row in df_30_mouse_matrix.copy():\n",
    "    mouse_matrix_in_matlas.append(np.divide(row,np.max(row)))\n",
    "mouse_norm_matrix = np.array(mouse_matrix_in_matlas)\n",
    "np.save('../../../../mouse_matrix_in_matlas.npy',mouse_norm_matrix)\n",
    "np.shape(mouse_norm_matrix)"
   ]
  },
  {
   "cell_type": "code",
   "execution_count": 56,
   "metadata": {},
   "outputs": [
    {
     "name": "stderr",
     "output_type": "stream",
     "text": [
      "/tmp/ipykernel_238720/95925373.py:1: FutureWarning: Method .as_matrix will be removed in a future version. Use .values instead.\n",
      "  rat_norm_matrix=df_30_rat_norm.drop(columns=['grid_id']).as_matrix().transpose()\n"
     ]
    },
    {
     "data": {
      "text/plain": [
       "(10, 2649)"
      ]
     },
     "execution_count": 56,
     "metadata": {},
     "output_type": "execute_result"
    }
   ],
   "source": [
    "rat_norm_matrix=df_30_rat_norm.drop(columns=['grid_id']).as_matrix().transpose()\n",
    "rat_norm_matrix = np.array(rat_norm_matrix)\n",
    "np.save('../../../../rat_matrix_in_matlas.npy',rat_norm_matrix)\n",
    "np.shape(rat_norm_matrix)"
   ]
  },
  {
   "cell_type": "code",
   "execution_count": 74,
   "metadata": {},
   "outputs": [
    {
     "data": {
      "text/plain": [
       "RangeIndex(start=0, stop=2649, step=1)"
      ]
     },
     "execution_count": 74,
     "metadata": {},
     "output_type": "execute_result"
    }
   ],
   "source": []
  },
  {
   "cell_type": "code",
   "execution_count": 83,
   "metadata": {},
   "outputs": [
    {
     "name": "stdout",
     "output_type": "stream",
     "text": [
      "rat is j317\n",
      "closest rat is z265\n",
      "closest mouse grids to j317 are [985, 952, 1447, 477]\n",
      "closest mouse grids to z265 are [985, 952, 1447, 477]\n"
     ]
    }
   ],
   "source": [
    "vect_num=0\n",
    "print('rat is {}'.format(col_nms[vect_num]))\n",
    "[rat_cosine_list, rat_cosine_indices, rat_cosines_to_plot] = get_similar_vectors(rat_matrix_in_matlas[vect_num],rat_matrix_in_matlas,2)\n",
    "print('closest rat is {}'.format(col_nms[rat_cosine_indices[1]]))\n",
    "second_vect=rat_cosine_indices[1]\n",
    "[cosine_list, cosine_indices, cosines_to_plot]= get_similar_vectors(rat_matrix_in_matlas[vect_num],mouse_matrix_in_matlas,4)\n",
    "closest_mouse_grids=[mouse_grid_vals[val] for val in cosine_indices]\n",
    "print('closest mouse grids to {} are {}'.format(col_nms[vect_num],closest_mouse_grids))\n",
    "[second_cosine_list, second_cosine_indices, second_cosine_to_plot] = get_similar_vectors(rat_matrix_in_matlas[second_vect],mouse_matrix_in_matlas,4)\n",
    "closest_mouse_grids_second_vect = [mouse_grid_vals[val] for val in cosine_indices]\n",
    "print('closest mouse grids to {} are {}'.format(col_nms[second_vect],closest_mouse_grids_second_vect))\n"
   ]
  },
  {
   "cell_type": "code",
   "execution_count": 61,
   "metadata": {},
   "outputs": [
    {
     "data": {
      "image/png": "[encoded data removed]",
      "text/plain": [
       "<Figure size 14400x1440 with 1 Axes>"
      ]
     },
     "metadata": {
      "needs_background": "light"
     },
     "output_type": "display_data"
    }
   ],
   "source": [
    "plt.figure(figsize=(200,20))\n",
    "plt.imshow(rat_cosines_to_plot,cmap='bone_r')\n",
    "plt.title('rats {} and {}'.format(col_nms[vect_num],col_nms[second_vect]))\n",
    "plt.save('../../../../')"
   ]
  },
  {
   "cell_type": "code",
   "execution_count": 84,
   "metadata": {},
   "outputs": [
    {
     "data": {
      "image/png": "[encoded data removed]",
      "text/plain": [
       "<Figure size 14400x1440 with 1 Axes>"
      ]
     },
     "metadata": {
      "needs_background": "light"
     },
     "output_type": "display_data"
    }
   ],
   "source": [
    "plt.figure(figsize=(200,20))\n",
    "plt.imshow(cosine_to_plot,cmap='bone_r')\n",
    "plt.title('mouse indices for {} are: {}'.format(col_nms[vect_num],closest_mouse_grids)) \n",
    "plt.show()"
   ]
  },
  {
   "cell_type": "code",
   "execution_count": 85,
   "metadata": {},
   "outputs": [
    {
     "data": {
      "image/png": "[encoded data removed]",
      "text/plain": [
       "<Figure size 14400x1440 with 1 Axes>"
      ]
     },
     "metadata": {
      "needs_background": "light"
     },
     "output_type": "display_data"
    }
   ],
   "source": [
    "plt.figure(figsize=(200,20))\n",
    "plt.imshow(second_cosine_to_plot,cmap='bone_r')\n",
    "plt.title('mouse indices for {} are: {}'.format(col_nms[second_vect],closest_mouse_grids_second_vect)) # get list of grid vals, use instead\n",
    "plt.show()"
   ]
  },
  {
   "cell_type": "code",
   "execution_count": 89,
   "metadata": {
    "scrolled": true
   },
   "outputs": [
    {
     "name": "stdout",
     "output_type": "stream",
     "text": [
      "rat is j317\n",
      "closest rat is z265\n",
      "closest mouse grids to j317 are [985, 952, 1447, 477]\n",
      "closest mouse grids to z265 are [985, 1003, 952, 477]\n",
      "rat is z267\n",
      "closest rat is j316\n",
      "closest mouse grids to z267 are [985, 952, 961, 1003]\n",
      "closest mouse grids to j316 are [985, 952, 1003, 986]\n",
      "rat is z265\n",
      "closest rat is j317\n",
      "closest mouse grids to z265 are [985, 1003, 952, 477]\n",
      "closest mouse grids to j317 are [985, 952, 1447, 477]\n",
      "rat is z266\n",
      "closest rat is z268\n",
      "closest mouse grids to z266 are [952, 985, 477, 1505]\n",
      "closest mouse grids to z268 are [371, 1112, 1144, 952]\n",
      "rat is e153\n",
      "closest rat is e144\n",
      "closest mouse grids to e153 are [961, 1145, 1546, 875]\n",
      "closest mouse grids to e144 are [952, 985, 961, 986]\n",
      "rat is e144\n",
      "closest rat is e153\n",
      "closest mouse grids to e144 are [952, 985, 961, 986]\n",
      "closest mouse grids to e153 are [961, 1145, 1546, 875]\n",
      "rat is z268\n",
      "closest rat is z266\n",
      "closest mouse grids to z268 are [371, 1112, 1144, 952]\n",
      "closest mouse grids to z266 are [952, 985, 477, 1505]\n",
      "rat is j319\n",
      "closest rat is j316\n",
      "closest mouse grids to j319 are [985, 952, 986, 477]\n",
      "closest mouse grids to j316 are [985, 952, 1003, 986]\n",
      "rat is e142\n",
      "closest rat is e153\n",
      "closest mouse grids to e142 are [961, 1001, 1145, 949]\n",
      "closest mouse grids to e153 are [961, 1145, 1546, 875]\n",
      "rat is j316\n",
      "closest rat is j319\n",
      "closest mouse grids to j316 are [985, 952, 1003, 986]\n",
      "closest mouse grids to j319 are [985, 952, 986, 477]\n"
     ]
    }
   ],
   "source": [
    "# summary data\n",
    "# rat - closest rat grid - cosine similarity - closest mouse grids - cosine similarities\n",
    "for rat_num in np.arange(0,len(col_nms)):\n",
    "    print('rat is {}'.format(col_nms[rat_num]))\n",
    "    [rat_cosine_list, rat_cosine_indices, rat_cosines_to_plot] = get_similar_vectors(rat_matrix_in_matlas[rat_num],rat_matrix_in_matlas,2)\n",
    "    print('closest rat is {}'.format(col_nms[rat_cosine_indices[1]]))\n",
    "    second_vect=rat_cosine_indices[1]\n",
    "    [cosine_list, cosine_indices, cosines_to_plot]= get_similar_vectors(rat_matrix_in_matlas[rat_num],mouse_matrix_in_matlas,4)\n",
    "    closest_mouse_grids=[mouse_grid_vals[val] for val in cosine_indices]\n",
    "    print('closest mouse grids to {} are {}'.format(col_nms[rat_num],closest_mouse_grids))\n",
    "    [second_cosine_list, second_cosine_indices, second_cosine_to_plot] = get_similar_vectors(rat_matrix_in_matlas[second_vect],mouse_matrix_in_matlas,4)\n",
    "    closest_mouse_grids_second_vect = [mouse_grid_vals[val] for val in second_cosine_indices]\n",
    "    print('closest mouse grids to {} are {}'.format(col_nms[second_vect],closest_mouse_grids_second_vect))\n"
   ]
  },
  {
   "cell_type": "code",
   "execution_count": 102,
   "metadata": {},
   "outputs": [],
   "source": [
    "matlas_grid = tif.imread('/home/emilyjanedennis/Desktop/for_registration_to_lightsheet/tiffs/matlas_30_grid_goodonly.tif')"
   ]
  },
  {
   "cell_type": "code",
   "execution_count": 105,
   "metadata": {},
   "outputs": [],
   "source": [
    "test=np.zeros(np.shape(matlas_grid))\n",
    "test[matlas_grid>0]=1\n",
    "test[matlas_grid==985]=100\n",
    "test[matlas_grid==952]=50\n",
    "test[matlas_grid==961]=25\n",
    "test[matlas_grid==1003]=13\n",
    "tif.imsave('/home/emilyjanedennis/Desktop/test.tif',test)"
   ]
  },
  {
   "cell_type": "code",
   "execution_count": 100,
   "metadata": {},
   "outputs": [],
   "source": [
    "# get grids of inj sites or just inj sites as dots\n",
    "# get top mouse grids and plot inj sites or rat grids on them, e.g. for grid 985 show j316, j319, z265, j317\n",
    "# IN MATLAS SPACE"
   ]
  },
  {
   "cell_type": "code",
   "execution_count": null,
   "metadata": {},
   "outputs": [],
   "source": [
    "# example\n",
    "# j319 has centroid at 41,508,364 in mPRA"
   ]
  }
 ],
 "metadata": {
  "kernelspec": {
   "display_name": "Python 3 (ipykernel)",
   "language": "python",
   "name": "python3"
  },
  "language_info": {
   "codemirror_mode": {
    "name": "ipython",
    "version": 3
   },
   "file_extension": ".py",
   "mimetype": "text/x-python",
   "name": "python",
   "nbconvert_exporter": "python",
   "pygments_lexer": "ipython3",
   "version": "3.8.10"
  }
 },
 "nbformat": 4,
 "nbformat_minor": 4
}
