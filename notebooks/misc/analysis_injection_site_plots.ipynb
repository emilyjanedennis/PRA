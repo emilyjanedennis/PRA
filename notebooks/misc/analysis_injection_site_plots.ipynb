{
 "cells": [
  {
   "cell_type": "markdown",
   "id": "active-auckland",
   "metadata": {},
   "source": [
    "# Purpose\n"
   ]
  },
  {
   "cell_type": "code",
   "execution_count": 2,
   "id": "loved-appreciation",
   "metadata": {},
   "outputs": [],
   "source": [
    "# imports\n",
    "import numpy as np\n",
    "import tifffile as tif\n",
    "import matplotlib.pyplot as plt\n",
    "import pandas as pd\n",
    "import os, sys, glob\n",
    "import SimpleITK as sitk\n",
    "\n",
    "# this should actually be done in a notebook bc it isn't 100% accurate"
   ]
  },
  {
   "cell_type": "markdown",
   "id": "minute-basis",
   "metadata": {},
   "source": [
    "# User inputs"
   ]
  },
  {
   "cell_type": "code",
   "execution_count": null,
   "id": "institutional-water",
   "metadata": {},
   "outputs": [],
   "source": [
    "folder_of_tiffs = '/Users/emilydennis/Desktop/spimout/'\n",
    "tiff_example = '/Users/emilydennis/Desktop/spimout/a253_reg_in_atl.tif'\n",
    "csv_out = '/Users/emilydennis/Desktop/a253_reg_in_atl_out.csv'"
   ]
  },
  {
   "cell_type": "markdown",
   "id": "promising-paper",
   "metadata": {},
   "source": [
    "# define functions"
   ]
  },
  {
   "cell_type": "code",
   "execution_count": 178,
   "id": "comprehensive-yukon",
   "metadata": {},
   "outputs": [],
   "source": [
    "def get_max_points(tiff_path):\n",
    "    tiff_file = tif.imread(tiff_path)\n",
    "    index_tuple = np.unravel_index(np.argmax(tiff_file),tiff_file.shape)\n",
    "    print(index_tuple)\n",
    "    max_points =[tiff_path,index_tuple[0],index_tuple[1],index_tuple[2]]\n",
    "    return max_points"
   ]
  },
  {
   "cell_type": "code",
   "execution_count": 181,
   "id": "returning-apartment",
   "metadata": {},
   "outputs": [],
   "source": [
    "def get_points_from_out_file(out_file):\n",
    "    f=open(out_file,'r')\n",
    "    data=[]\n",
    "    for ff in f.readline().split('; '):\n",
    "        if \"OutputIndexMoving\" in ff:\n",
    "            for i in ff.split():\n",
    "                if i.isdigit():\n",
    "                    data.append(int(i))\n",
    "    f.close()\n",
    "    return data"
   ]
  },
  {
   "cell_type": "markdown",
   "id": "stainless-laugh",
   "metadata": {},
   "source": [
    "# taking images and finding max values with manual checks "
   ]
  },
  {
   "cell_type": "code",
   "execution_count": 168,
   "id": "requested-conflict",
   "metadata": {},
   "outputs": [],
   "source": [
    "folder_of_tiffs = '/Users/emilydennis/Desktop/spimout/'\n",
    "list_of_tiffs = [file for file in os.listdir(folder_of_tiffs) if file[-4:]=='.tif']"
   ]
  },
  {
   "cell_type": "code",
   "execution_count": 179,
   "id": "moving-laugh",
   "metadata": {},
   "outputs": [
    {
     "name": "stdout",
     "output_type": "stream",
     "text": [
      "e143_reg_in_atl.tif\n",
      "(365, 541, 40)\n",
      "h234_cell_to_reg.tif\n",
      "(141, 627, 393)\n",
      "e144_reg_in_atl.tif\n",
      "(385, 533, 41)\n",
      "a253_cell_to_reg.tif\n",
      "(148, 629, 333)\n",
      "e142_reg_in_atl.tif\n",
      "(367, 551, 22)\n",
      "e153_reg_in_atl.tif\n",
      "(378, 710, 64)\n",
      "h234_in_atl.tif\n",
      "(366, 527, 23)\n",
      "j316_reg_in_atl.tif\n",
      "(483, 426, 151)\n",
      "a253_reg_in_atl.tif\n",
      "(276, 734, 101)\n",
      "j319_reg_in_atl.tif\n",
      "(370, 579, 46)\n",
      "e144_cell_to_reg.tif\n",
      "(18, 694, 342)\n",
      "e143_cell_to_reg.tif\n",
      "(40, 565, 400)\n",
      "j319_cell_to_reg.tif\n",
      "(130, 732, 372)\n",
      "j316_cell_to_reg.tif\n",
      "(126, 707, 335)\n",
      "j317_reg_in_atl.tif\n",
      "(387, 580, 58)\n",
      "e142_cell_to_reg.tif\n",
      "(133, 694, 355)\n",
      "j317_cell_to_reg.tif\n",
      "(106, 762, 331)\n",
      "e153_cell_to_reg.tif\n",
      "(133, 664, 329)\n"
     ]
    },
    {
     "data": {
      "text/html": [
       "<div>\n",
       "<style scoped>\n",
       "    .dataframe tbody tr th:only-of-type {\n",
       "        vertical-align: middle;\n",
       "    }\n",
       "\n",
       "    .dataframe tbody tr th {\n",
       "        vertical-align: top;\n",
       "    }\n",
       "\n",
       "    .dataframe thead th {\n",
       "        text-align: right;\n",
       "    }\n",
       "</style>\n",
       "<table border=\"1\" class=\"dataframe\">\n",
       "  <thead>\n",
       "    <tr style=\"text-align: right;\">\n",
       "      <th></th>\n",
       "      <th>file_name</th>\n",
       "      <th>index_0</th>\n",
       "      <th>index_1</th>\n",
       "      <th>index_2</th>\n",
       "    </tr>\n",
       "  </thead>\n",
       "  <tbody>\n",
       "    <tr>\n",
       "      <th>0</th>\n",
       "      <td>/Users/emilydennis/Desktop/spimout/e143_reg_in...</td>\n",
       "      <td>365</td>\n",
       "      <td>541</td>\n",
       "      <td>40</td>\n",
       "    </tr>\n",
       "    <tr>\n",
       "      <th>1</th>\n",
       "      <td>/Users/emilydennis/Desktop/spimout/h234_cell_t...</td>\n",
       "      <td>141</td>\n",
       "      <td>627</td>\n",
       "      <td>393</td>\n",
       "    </tr>\n",
       "    <tr>\n",
       "      <th>2</th>\n",
       "      <td>/Users/emilydennis/Desktop/spimout/e144_reg_in...</td>\n",
       "      <td>385</td>\n",
       "      <td>533</td>\n",
       "      <td>41</td>\n",
       "    </tr>\n",
       "    <tr>\n",
       "      <th>3</th>\n",
       "      <td>/Users/emilydennis/Desktop/spimout/a253_cell_t...</td>\n",
       "      <td>148</td>\n",
       "      <td>629</td>\n",
       "      <td>333</td>\n",
       "    </tr>\n",
       "    <tr>\n",
       "      <th>4</th>\n",
       "      <td>/Users/emilydennis/Desktop/spimout/e142_reg_in...</td>\n",
       "      <td>367</td>\n",
       "      <td>551</td>\n",
       "      <td>22</td>\n",
       "    </tr>\n",
       "    <tr>\n",
       "      <th>5</th>\n",
       "      <td>/Users/emilydennis/Desktop/spimout/e153_reg_in...</td>\n",
       "      <td>378</td>\n",
       "      <td>710</td>\n",
       "      <td>64</td>\n",
       "    </tr>\n",
       "    <tr>\n",
       "      <th>6</th>\n",
       "      <td>/Users/emilydennis/Desktop/spimout/h234_in_atl...</td>\n",
       "      <td>366</td>\n",
       "      <td>527</td>\n",
       "      <td>23</td>\n",
       "    </tr>\n",
       "    <tr>\n",
       "      <th>7</th>\n",
       "      <td>/Users/emilydennis/Desktop/spimout/j316_reg_in...</td>\n",
       "      <td>483</td>\n",
       "      <td>426</td>\n",
       "      <td>151</td>\n",
       "    </tr>\n",
       "    <tr>\n",
       "      <th>8</th>\n",
       "      <td>/Users/emilydennis/Desktop/spimout/a253_reg_in...</td>\n",
       "      <td>276</td>\n",
       "      <td>734</td>\n",
       "      <td>101</td>\n",
       "    </tr>\n",
       "    <tr>\n",
       "      <th>9</th>\n",
       "      <td>/Users/emilydennis/Desktop/spimout/j319_reg_in...</td>\n",
       "      <td>370</td>\n",
       "      <td>579</td>\n",
       "      <td>46</td>\n",
       "    </tr>\n",
       "    <tr>\n",
       "      <th>10</th>\n",
       "      <td>/Users/emilydennis/Desktop/spimout/e144_cell_t...</td>\n",
       "      <td>18</td>\n",
       "      <td>694</td>\n",
       "      <td>342</td>\n",
       "    </tr>\n",
       "    <tr>\n",
       "      <th>11</th>\n",
       "      <td>/Users/emilydennis/Desktop/spimout/e143_cell_t...</td>\n",
       "      <td>40</td>\n",
       "      <td>565</td>\n",
       "      <td>400</td>\n",
       "    </tr>\n",
       "    <tr>\n",
       "      <th>12</th>\n",
       "      <td>/Users/emilydennis/Desktop/spimout/j319_cell_t...</td>\n",
       "      <td>130</td>\n",
       "      <td>732</td>\n",
       "      <td>372</td>\n",
       "    </tr>\n",
       "    <tr>\n",
       "      <th>13</th>\n",
       "      <td>/Users/emilydennis/Desktop/spimout/j316_cell_t...</td>\n",
       "      <td>126</td>\n",
       "      <td>707</td>\n",
       "      <td>335</td>\n",
       "    </tr>\n",
       "    <tr>\n",
       "      <th>14</th>\n",
       "      <td>/Users/emilydennis/Desktop/spimout/j317_reg_in...</td>\n",
       "      <td>387</td>\n",
       "      <td>580</td>\n",
       "      <td>58</td>\n",
       "    </tr>\n",
       "    <tr>\n",
       "      <th>15</th>\n",
       "      <td>/Users/emilydennis/Desktop/spimout/e142_cell_t...</td>\n",
       "      <td>133</td>\n",
       "      <td>694</td>\n",
       "      <td>355</td>\n",
       "    </tr>\n",
       "    <tr>\n",
       "      <th>16</th>\n",
       "      <td>/Users/emilydennis/Desktop/spimout/j317_cell_t...</td>\n",
       "      <td>106</td>\n",
       "      <td>762</td>\n",
       "      <td>331</td>\n",
       "    </tr>\n",
       "    <tr>\n",
       "      <th>17</th>\n",
       "      <td>/Users/emilydennis/Desktop/spimout/e153_cell_t...</td>\n",
       "      <td>133</td>\n",
       "      <td>664</td>\n",
       "      <td>329</td>\n",
       "    </tr>\n",
       "  </tbody>\n",
       "</table>\n",
       "</div>"
      ],
      "text/plain": [
       "                                            file_name  index_0  index_1  \\\n",
       "0   /Users/emilydennis/Desktop/spimout/e143_reg_in...      365      541   \n",
       "1   /Users/emilydennis/Desktop/spimout/h234_cell_t...      141      627   \n",
       "2   /Users/emilydennis/Desktop/spimout/e144_reg_in...      385      533   \n",
       "3   /Users/emilydennis/Desktop/spimout/a253_cell_t...      148      629   \n",
       "4   /Users/emilydennis/Desktop/spimout/e142_reg_in...      367      551   \n",
       "5   /Users/emilydennis/Desktop/spimout/e153_reg_in...      378      710   \n",
       "6   /Users/emilydennis/Desktop/spimout/h234_in_atl...      366      527   \n",
       "7   /Users/emilydennis/Desktop/spimout/j316_reg_in...      483      426   \n",
       "8   /Users/emilydennis/Desktop/spimout/a253_reg_in...      276      734   \n",
       "9   /Users/emilydennis/Desktop/spimout/j319_reg_in...      370      579   \n",
       "10  /Users/emilydennis/Desktop/spimout/e144_cell_t...       18      694   \n",
       "11  /Users/emilydennis/Desktop/spimout/e143_cell_t...       40      565   \n",
       "12  /Users/emilydennis/Desktop/spimout/j319_cell_t...      130      732   \n",
       "13  /Users/emilydennis/Desktop/spimout/j316_cell_t...      126      707   \n",
       "14  /Users/emilydennis/Desktop/spimout/j317_reg_in...      387      580   \n",
       "15  /Users/emilydennis/Desktop/spimout/e142_cell_t...      133      694   \n",
       "16  /Users/emilydennis/Desktop/spimout/j317_cell_t...      106      762   \n",
       "17  /Users/emilydennis/Desktop/spimout/e153_cell_t...      133      664   \n",
       "\n",
       "    index_2  \n",
       "0        40  \n",
       "1       393  \n",
       "2        41  \n",
       "3       333  \n",
       "4        22  \n",
       "5        64  \n",
       "6        23  \n",
       "7       151  \n",
       "8       101  \n",
       "9        46  \n",
       "10      342  \n",
       "11      400  \n",
       "12      372  \n",
       "13      335  \n",
       "14       58  \n",
       "15      355  \n",
       "16      331  \n",
       "17      329  "
      ]
     },
     "execution_count": 179,
     "metadata": {},
     "output_type": "execute_result"
    }
   ],
   "source": [
    "max_indices = []\n",
    "for file in list_of_tiffs:\n",
    "    print(file)\n",
    "    max_indices.append(get_max_points(os.path.join(folder_of_tiffs,file)))\n",
    "max_df=pd.DataFrame(max_indices,columns=['file_name','index_0','index_1','index_2'])"
   ]
  },
  {
   "cell_type": "code",
   "execution_count": 180,
   "id": "coordinate-valentine",
   "metadata": {},
   "outputs": [],
   "source": [
    "max_df=pd.DataFrame(max_indices,columns=['file_name','index_0','index_1','index_2'])\n",
    "max_df.to_csv('/Users/emilydennis/Desktop/cm2_max_indices.csv')"
   ]
  },
  {
   "cell_type": "code",
   "execution_count": null,
   "id": "vanilla-sensitivity",
   "metadata": {},
   "outputs": [],
   "source": [
    "max_df.insert(3,'transformixed_0',0)\n",
    "max_df.insert(4,'transformixed_1',0)\n",
    "max_df.insert(5,'transformixed_2',0)\n",
    "\n",
    "for name in max_df.file_name:\n",
    "    "
   ]
  },
  {
   "cell_type": "code",
   "execution_count": null,
   "id": "billion-regression",
   "metadata": {},
   "outputs": [],
   "source": []
  },
  {
   "cell_type": "code",
   "execution_count": null,
   "id": "polar-fashion",
   "metadata": {},
   "outputs": [],
   "source": []
  },
  {
   "cell_type": "code",
   "execution_count": 10,
   "id": "geological-interpretation",
   "metadata": {},
   "outputs": [],
   "source": [
    "j316=tif.imread('/Users/emilydennis/Desktop/spimout/j316_reg_in_atl.tif')"
   ]
  },
  {
   "cell_type": "code",
   "execution_count": 80,
   "id": "specified-harris",
   "metadata": {},
   "outputs": [
    {
     "data": {
      "text/plain": [
       "741"
      ]
     },
     "execution_count": 80,
     "metadata": {},
     "output_type": "execute_result"
    }
   ],
   "source": [
    "np.where(j316==1379)[1][0]"
   ]
  },
  {
   "cell_type": "code",
   "execution_count": 81,
   "id": "reverse-clear",
   "metadata": {},
   "outputs": [
    {
     "name": "stdout",
     "output_type": "stream",
     "text": [
      "i is 1379 and tuple (array([127]), array([741]), array([212]))\n",
      "i is 1384 and tuple (array([412]), array([565]), array([13]))\n",
      "i is 1397 and tuple (array([381]), array([578]), array([27]))\n",
      "i is 1418 and tuple (array([321]), array([1045]), array([149]))\n",
      "i is 1423 and tuple (array([128]), array([741]), array([212]))\n",
      "i is 1435 and tuple (array([410]), array([569]), array([13]))\n",
      "i is 1436 and tuple (array([411]), array([567]), array([14]))\n",
      "i is 1445 and tuple (array([409]), array([565]), array([16]))\n",
      "i is 1453 and tuple (array([410]), array([565]), array([15]))\n",
      "i is 1463 and tuple (array([409, 412]), array([570, 567]), array([14, 13]))\n",
      "i is 1463 and tuple (array([409, 412]), array([570, 567]), array([14, 13]))\n",
      "i is 1468 and tuple (array([411]), array([566]), array([14]))\n",
      "i is 1482 and tuple (array([410]), array([567]), array([13]))\n",
      "i is 1490 and tuple (array([410]), array([568]), array([14]))\n",
      "i is 1491 and tuple (array([410]), array([566]), array([14]))\n",
      "i is 1514 and tuple (array([322]), array([1045]), array([147]))\n",
      "i is 1521 and tuple (array([320]), array([1044]), array([146]))\n",
      "i is 1531 and tuple (array([412]), array([568]), array([13]))\n",
      "i is 1536 and tuple (array([409]), array([567]), array([15]))\n",
      "i is 1542 and tuple (array([411]), array([567]), array([13]))\n",
      "i is 1543 and tuple (array([322]), array([1045]), array([149]))\n",
      "i is 1560 and tuple (array([411]), array([565]), array([14]))\n",
      "i is 1564 and tuple (array([410]), array([568]), array([13]))\n",
      "i is 1566 and tuple (array([409]), array([566]), array([15]))\n",
      "i is 1618 and tuple (array([409]), array([569]), array([15]))\n",
      "i is 1619 and tuple (array([409]), array([570]), array([15]))\n",
      "i is 1629 and tuple (array([408]), array([569]), array([15]))\n",
      "i is 1634 and tuple (array([408]), array([568]), array([15]))\n",
      "i is 1648 and tuple (array([410]), array([569]), array([14]))\n",
      "i is 1680 and tuple (array([409]), array([569]), array([14]))\n"
     ]
    }
   ],
   "source": [
    "for i in np.sort(np.ravel(j316))[-40:]:\n",
    "    print('i is {} and tuple {}'.format(i,np.where(j316==i)))"
   ]
  },
  {
   "cell_type": "markdown",
   "id": "competitive-bradley",
   "metadata": {},
   "source": [
    "# read csv"
   ]
  },
  {
   "cell_type": "code",
   "execution_count": 125,
   "id": "employed-antibody",
   "metadata": {},
   "outputs": [],
   "source": [
    "max_indices_df = pd.read_csv('/Users/emilydennis/Desktop/lightsheet/cm2_max_indices.csv')\n",
    "\n",
    "max_indices_df=max_indices_df.drop(columns=['Unnamed: 0'])"
   ]
  },
  {
   "cell_type": "code",
   "execution_count": 119,
   "id": "unexpected-necklace",
   "metadata": {},
   "outputs": [],
   "source": [
    "max_in_atl_df = max_indices_df[max_indices_df.file_name.str.contains('atl.tif')]\n",
    "max_in_reg_df = max_indices_df[max_indices_df.file_name.str.contains('to_reg')]"
   ]
  },
  {
   "cell_type": "code",
   "execution_count": 126,
   "id": "cooked-whole",
   "metadata": {},
   "outputs": [
    {
     "data": {
      "text/html": [
       "<div>\n",
       "<style scoped>\n",
       "    .dataframe tbody tr th:only-of-type {\n",
       "        vertical-align: middle;\n",
       "    }\n",
       "\n",
       "    .dataframe tbody tr th {\n",
       "        vertical-align: top;\n",
       "    }\n",
       "\n",
       "    .dataframe thead th {\n",
       "        text-align: right;\n",
       "    }\n",
       "</style>\n",
       "<table border=\"1\" class=\"dataframe\">\n",
       "  <thead>\n",
       "    <tr style=\"text-align: right;\">\n",
       "      <th></th>\n",
       "      <th>file_name</th>\n",
       "      <th>indices</th>\n",
       "    </tr>\n",
       "  </thead>\n",
       "  <tbody>\n",
       "    <tr>\n",
       "      <th>0</th>\n",
       "      <td>e143_reg_in_atl.tif</td>\n",
       "      <td>(365, 541, 40)</td>\n",
       "    </tr>\n",
       "    <tr>\n",
       "      <th>1</th>\n",
       "      <td>h234_cell_to_reg.tif</td>\n",
       "      <td>(141, 627, 393)</td>\n",
       "    </tr>\n",
       "    <tr>\n",
       "      <th>2</th>\n",
       "      <td>e144_reg_in_atl.tif</td>\n",
       "      <td>(385, 533, 41)</td>\n",
       "    </tr>\n",
       "    <tr>\n",
       "      <th>3</th>\n",
       "      <td>a253_cell_to_reg.tif</td>\n",
       "      <td>(148, 629, 333)</td>\n",
       "    </tr>\n",
       "    <tr>\n",
       "      <th>4</th>\n",
       "      <td>e142_reg_in_atl.tif</td>\n",
       "      <td>(367, 551, 22)</td>\n",
       "    </tr>\n",
       "    <tr>\n",
       "      <th>5</th>\n",
       "      <td>e153_reg_in_atl.tif</td>\n",
       "      <td>(378, 710, 64)</td>\n",
       "    </tr>\n",
       "    <tr>\n",
       "      <th>6</th>\n",
       "      <td>h234_in_atl.tif</td>\n",
       "      <td>(366, 527, 23)</td>\n",
       "    </tr>\n",
       "    <tr>\n",
       "      <th>7</th>\n",
       "      <td>j316_reg_in_atl.tif</td>\n",
       "      <td>(381, 578, 27)</td>\n",
       "    </tr>\n",
       "    <tr>\n",
       "      <th>8</th>\n",
       "      <td>j319_reg_in_atl.tif</td>\n",
       "      <td>(370, 579, 46)</td>\n",
       "    </tr>\n",
       "    <tr>\n",
       "      <th>9</th>\n",
       "      <td>e144_cell_to_reg.tif</td>\n",
       "      <td>(103,701,339)</td>\n",
       "    </tr>\n",
       "    <tr>\n",
       "      <th>10</th>\n",
       "      <td>e143_cell_to_reg.tif</td>\n",
       "      <td>(85,568,394)</td>\n",
       "    </tr>\n",
       "    <tr>\n",
       "      <th>11</th>\n",
       "      <td>j319_cell_to_reg.tif</td>\n",
       "      <td>(130, 732, 372)</td>\n",
       "    </tr>\n",
       "    <tr>\n",
       "      <th>12</th>\n",
       "      <td>j316_cell_to_reg.tif</td>\n",
       "      <td>(126, 707, 335)</td>\n",
       "    </tr>\n",
       "    <tr>\n",
       "      <th>13</th>\n",
       "      <td>j317_reg_in_atl.tif</td>\n",
       "      <td>(387, 580, 58)</td>\n",
       "    </tr>\n",
       "    <tr>\n",
       "      <th>14</th>\n",
       "      <td>e142_cell_to_reg.tif</td>\n",
       "      <td>(133, 694, 355)</td>\n",
       "    </tr>\n",
       "    <tr>\n",
       "      <th>15</th>\n",
       "      <td>j317_cell_to_reg.tif</td>\n",
       "      <td>(106, 762, 331)</td>\n",
       "    </tr>\n",
       "    <tr>\n",
       "      <th>16</th>\n",
       "      <td>e153_cell_to_reg.tif</td>\n",
       "      <td>(133, 664, 329)</td>\n",
       "    </tr>\n",
       "  </tbody>\n",
       "</table>\n",
       "</div>"
      ],
      "text/plain": [
       "               file_name          indices\n",
       "0    e143_reg_in_atl.tif   (365, 541, 40)\n",
       "1   h234_cell_to_reg.tif  (141, 627, 393)\n",
       "2    e144_reg_in_atl.tif   (385, 533, 41)\n",
       "3   a253_cell_to_reg.tif  (148, 629, 333)\n",
       "4    e142_reg_in_atl.tif   (367, 551, 22)\n",
       "5    e153_reg_in_atl.tif   (378, 710, 64)\n",
       "6        h234_in_atl.tif   (366, 527, 23)\n",
       "7    j316_reg_in_atl.tif   (381, 578, 27)\n",
       "8    j319_reg_in_atl.tif   (370, 579, 46)\n",
       "9   e144_cell_to_reg.tif    (103,701,339)\n",
       "10  e143_cell_to_reg.tif     (85,568,394)\n",
       "11  j319_cell_to_reg.tif  (130, 732, 372)\n",
       "12  j316_cell_to_reg.tif  (126, 707, 335)\n",
       "13   j317_reg_in_atl.tif   (387, 580, 58)\n",
       "14  e142_cell_to_reg.tif  (133, 694, 355)\n",
       "15  j317_cell_to_reg.tif  (106, 762, 331)\n",
       "16  e153_cell_to_reg.tif  (133, 664, 329)"
      ]
     },
     "execution_count": 126,
     "metadata": {},
     "output_type": "execute_result"
    }
   ],
   "source": [
    "max_indices_df"
   ]
  },
  {
   "cell_type": "code",
   "execution_count": 123,
   "id": "about-dylan",
   "metadata": {},
   "outputs": [],
   "source": [
    "max_indices_df.indices[7] = '(381, 578, 27)'\n",
    "max_indices_df.indices[9]='(103,701,339)'\n",
    "max_indices_df.indices[10]='(85,568,394)'\n",
    "max_indices_df.to_csv('/Users/emilydennis/Desktop/lightsheet/cm2_max_indices.csv')\n"
   ]
  },
  {
   "cell_type": "code",
   "execution_count": 66,
   "id": "featured-stack",
   "metadata": {},
   "outputs": [
    {
     "data": {
      "text/plain": [
       "(0.0, 1150.0)"
      ]
     },
     "execution_count": 66,
     "metadata": {},
     "output_type": "execute_result"
    },
    {
     "data": {
      "image/png": "[encoded data removed]",
      "text/plain": [
       "<Figure size 432x288 with 1 Axes>"
      ]
     },
     "metadata": {
      "needs_background": "light"
     },
     "output_type": "display_data"
    }
   ],
   "source": [
    "xs=[]\n",
    "ys=[]\n",
    "for locale in max_in_atl_df.indices:\n",
    "    xs.append(eval(locale)[1])\n",
    "    ys.append(eval(locale)[0])\n",
    "plt.scatter(ys,xs)\n",
    "plt.xlim([0,618])\n",
    "plt.ylim([0,1150])\n",
    "# from here, need to check j316_reg_in_atl -- manually 'fixed' j316_reg_in_atl\n",
    "# e153_reg_in_atl had bad alignment! re-align (cerebellum stretched weird?)"
   ]
  },
  {
   "cell_type": "code",
   "execution_count": 67,
   "id": "nominated-sentence",
   "metadata": {},
   "outputs": [
    {
     "name": "stderr",
     "output_type": "stream",
     "text": [
      "/Users/emilydennis/.local/lib/python3.7/site-packages/IPython/core/interactiveshell.py:3331: SettingWithCopyWarning: \n",
      "A value is trying to be set on a copy of a slice from a DataFrame\n",
      "\n",
      "See the caveats in the documentation: https://pandas.pydata.org/pandas-docs/stable/user_guide/indexing.html#returning-a-view-versus-a-copy\n",
      "  exec(code_obj, self.user_global_ns, self.user_ns)\n"
     ]
    }
   ],
   "source": [
    "max_in_reg_df.indices[9]='(103,701,339)'\n",
    "max_in_reg_df.indices[10]='(85,568,394)'"
   ]
  },
  {
   "cell_type": "code",
   "execution_count": 68,
   "id": "lesbian-sleeve",
   "metadata": {},
   "outputs": [
    {
     "data": {
      "text/html": [
       "<div>\n",
       "<style scoped>\n",
       "    .dataframe tbody tr th:only-of-type {\n",
       "        vertical-align: middle;\n",
       "    }\n",
       "\n",
       "    .dataframe tbody tr th {\n",
       "        vertical-align: top;\n",
       "    }\n",
       "\n",
       "    .dataframe thead th {\n",
       "        text-align: right;\n",
       "    }\n",
       "</style>\n",
       "<table border=\"1\" class=\"dataframe\">\n",
       "  <thead>\n",
       "    <tr style=\"text-align: right;\">\n",
       "      <th></th>\n",
       "      <th>file_name</th>\n",
       "      <th>indices</th>\n",
       "    </tr>\n",
       "  </thead>\n",
       "  <tbody>\n",
       "    <tr>\n",
       "      <th>1</th>\n",
       "      <td>h234_cell_to_reg.tif</td>\n",
       "      <td>(141, 627, 393)</td>\n",
       "    </tr>\n",
       "    <tr>\n",
       "      <th>3</th>\n",
       "      <td>a253_cell_to_reg.tif</td>\n",
       "      <td>(148, 629, 333)</td>\n",
       "    </tr>\n",
       "    <tr>\n",
       "      <th>9</th>\n",
       "      <td>e144_cell_to_reg.tif</td>\n",
       "      <td>(103,701,339)</td>\n",
       "    </tr>\n",
       "    <tr>\n",
       "      <th>10</th>\n",
       "      <td>e143_cell_to_reg.tif</td>\n",
       "      <td>(85,568,394)</td>\n",
       "    </tr>\n",
       "    <tr>\n",
       "      <th>11</th>\n",
       "      <td>j319_cell_to_reg.tif</td>\n",
       "      <td>(130, 732, 372)</td>\n",
       "    </tr>\n",
       "    <tr>\n",
       "      <th>12</th>\n",
       "      <td>j316_cell_to_reg.tif</td>\n",
       "      <td>(126, 707, 335)</td>\n",
       "    </tr>\n",
       "    <tr>\n",
       "      <th>14</th>\n",
       "      <td>e142_cell_to_reg.tif</td>\n",
       "      <td>(133, 694, 355)</td>\n",
       "    </tr>\n",
       "    <tr>\n",
       "      <th>15</th>\n",
       "      <td>j317_cell_to_reg.tif</td>\n",
       "      <td>(106, 762, 331)</td>\n",
       "    </tr>\n",
       "    <tr>\n",
       "      <th>16</th>\n",
       "      <td>e153_cell_to_reg.tif</td>\n",
       "      <td>(133, 664, 329)</td>\n",
       "    </tr>\n",
       "  </tbody>\n",
       "</table>\n",
       "</div>"
      ],
      "text/plain": [
       "               file_name          indices\n",
       "1   h234_cell_to_reg.tif  (141, 627, 393)\n",
       "3   a253_cell_to_reg.tif  (148, 629, 333)\n",
       "9   e144_cell_to_reg.tif    (103,701,339)\n",
       "10  e143_cell_to_reg.tif     (85,568,394)\n",
       "11  j319_cell_to_reg.tif  (130, 732, 372)\n",
       "12  j316_cell_to_reg.tif  (126, 707, 335)\n",
       "14  e142_cell_to_reg.tif  (133, 694, 355)\n",
       "15  j317_cell_to_reg.tif  (106, 762, 331)\n",
       "16  e153_cell_to_reg.tif  (133, 664, 329)"
      ]
     },
     "execution_count": 68,
     "metadata": {},
     "output_type": "execute_result"
    }
   ],
   "source": [
    "max_in_reg_df\n",
    "# pull down from spock reg:atl transform files\n",
    "# for each filename, get base"
   ]
  },
  {
   "cell_type": "code",
   "execution_count": 69,
   "id": "colonial-familiar",
   "metadata": {},
   "outputs": [
    {
     "data": {
      "text/plain": [
       "<matplotlib.collections.PathCollection at 0x7f899f95b9e8>"
      ]
     },
     "execution_count": 69,
     "metadata": {},
     "output_type": "execute_result"
    },
    {
     "data": {
      "image/png": "[encoded data removed]",
      "text/plain": [
       "<Figure size 432x288 with 1 Axes>"
      ]
     },
     "metadata": {
      "needs_background": "light"
     },
     "output_type": "display_data"
    }
   ],
   "source": [
    "\n",
    "\n",
    "xs=[]\n",
    "ys=[]\n",
    "for locale in max_in_reg_df.indices:\n",
    "    xs.append(eval(locale)[1])\n",
    "    ys.append(eval(locale)[2])\n",
    "plt.scatter(ys,xs)\n",
    "\n",
    "# from here need to manually check e144_cell_to_reg and e143_cell_to_reg\n",
    "# manual check revealed both blown out, skewing max vals"
   ]
  },
  {
   "cell_type": "code",
   "execution_count": 70,
   "id": "afraid-robin",
   "metadata": {},
   "outputs": [],
   "source": [
    "max_in_reg_df.insert(2,'adj_z',0)\n",
    "max_in_reg_df.insert(3,'adj_y',0)\n",
    "max_in_reg_df.insert(4,'adj_x',0)\n",
    "max_in_reg_df.insert(2,'tz',0)\n",
    "max_in_reg_df.insert(3,'ty',0)\n",
    "max_in_reg_df.insert(4,'tx',0)"
   ]
  },
  {
   "cell_type": "code",
   "execution_count": 127,
   "id": "available-network",
   "metadata": {},
   "outputs": [],
   "source": [
    "max_indices_df=max_indices_df.reset_index()"
   ]
  },
  {
   "cell_type": "code",
   "execution_count": 128,
   "id": "protective-spanish",
   "metadata": {},
   "outputs": [
    {
     "data": {
      "text/html": [
       "<div>\n",
       "<style scoped>\n",
       "    .dataframe tbody tr th:only-of-type {\n",
       "        vertical-align: middle;\n",
       "    }\n",
       "\n",
       "    .dataframe tbody tr th {\n",
       "        vertical-align: top;\n",
       "    }\n",
       "\n",
       "    .dataframe thead th {\n",
       "        text-align: right;\n",
       "    }\n",
       "</style>\n",
       "<table border=\"1\" class=\"dataframe\">\n",
       "  <thead>\n",
       "    <tr style=\"text-align: right;\">\n",
       "      <th></th>\n",
       "      <th>index</th>\n",
       "      <th>file_name</th>\n",
       "      <th>indices</th>\n",
       "    </tr>\n",
       "  </thead>\n",
       "  <tbody>\n",
       "    <tr>\n",
       "      <th>0</th>\n",
       "      <td>0</td>\n",
       "      <td>e143_reg_in_atl.tif</td>\n",
       "      <td>(365, 541, 40)</td>\n",
       "    </tr>\n",
       "    <tr>\n",
       "      <th>1</th>\n",
       "      <td>1</td>\n",
       "      <td>h234_cell_to_reg.tif</td>\n",
       "      <td>(141, 627, 393)</td>\n",
       "    </tr>\n",
       "    <tr>\n",
       "      <th>2</th>\n",
       "      <td>2</td>\n",
       "      <td>e144_reg_in_atl.tif</td>\n",
       "      <td>(385, 533, 41)</td>\n",
       "    </tr>\n",
       "    <tr>\n",
       "      <th>3</th>\n",
       "      <td>3</td>\n",
       "      <td>a253_cell_to_reg.tif</td>\n",
       "      <td>(148, 629, 333)</td>\n",
       "    </tr>\n",
       "    <tr>\n",
       "      <th>4</th>\n",
       "      <td>4</td>\n",
       "      <td>e142_reg_in_atl.tif</td>\n",
       "      <td>(367, 551, 22)</td>\n",
       "    </tr>\n",
       "    <tr>\n",
       "      <th>5</th>\n",
       "      <td>5</td>\n",
       "      <td>e153_reg_in_atl.tif</td>\n",
       "      <td>(378, 710, 64)</td>\n",
       "    </tr>\n",
       "    <tr>\n",
       "      <th>6</th>\n",
       "      <td>6</td>\n",
       "      <td>h234_in_atl.tif</td>\n",
       "      <td>(366, 527, 23)</td>\n",
       "    </tr>\n",
       "    <tr>\n",
       "      <th>7</th>\n",
       "      <td>7</td>\n",
       "      <td>j316_reg_in_atl.tif</td>\n",
       "      <td>(381, 578, 27)</td>\n",
       "    </tr>\n",
       "    <tr>\n",
       "      <th>8</th>\n",
       "      <td>8</td>\n",
       "      <td>j319_reg_in_atl.tif</td>\n",
       "      <td>(370, 579, 46)</td>\n",
       "    </tr>\n",
       "    <tr>\n",
       "      <th>9</th>\n",
       "      <td>9</td>\n",
       "      <td>e144_cell_to_reg.tif</td>\n",
       "      <td>(103,701,339)</td>\n",
       "    </tr>\n",
       "    <tr>\n",
       "      <th>10</th>\n",
       "      <td>10</td>\n",
       "      <td>e143_cell_to_reg.tif</td>\n",
       "      <td>(85,568,394)</td>\n",
       "    </tr>\n",
       "    <tr>\n",
       "      <th>11</th>\n",
       "      <td>11</td>\n",
       "      <td>j319_cell_to_reg.tif</td>\n",
       "      <td>(130, 732, 372)</td>\n",
       "    </tr>\n",
       "    <tr>\n",
       "      <th>12</th>\n",
       "      <td>12</td>\n",
       "      <td>j316_cell_to_reg.tif</td>\n",
       "      <td>(126, 707, 335)</td>\n",
       "    </tr>\n",
       "    <tr>\n",
       "      <th>13</th>\n",
       "      <td>13</td>\n",
       "      <td>j317_reg_in_atl.tif</td>\n",
       "      <td>(387, 580, 58)</td>\n",
       "    </tr>\n",
       "    <tr>\n",
       "      <th>14</th>\n",
       "      <td>14</td>\n",
       "      <td>e142_cell_to_reg.tif</td>\n",
       "      <td>(133, 694, 355)</td>\n",
       "    </tr>\n",
       "    <tr>\n",
       "      <th>15</th>\n",
       "      <td>15</td>\n",
       "      <td>j317_cell_to_reg.tif</td>\n",
       "      <td>(106, 762, 331)</td>\n",
       "    </tr>\n",
       "    <tr>\n",
       "      <th>16</th>\n",
       "      <td>16</td>\n",
       "      <td>e153_cell_to_reg.tif</td>\n",
       "      <td>(133, 664, 329)</td>\n",
       "    </tr>\n",
       "  </tbody>\n",
       "</table>\n",
       "</div>"
      ],
      "text/plain": [
       "    index             file_name          indices\n",
       "0       0   e143_reg_in_atl.tif   (365, 541, 40)\n",
       "1       1  h234_cell_to_reg.tif  (141, 627, 393)\n",
       "2       2   e144_reg_in_atl.tif   (385, 533, 41)\n",
       "3       3  a253_cell_to_reg.tif  (148, 629, 333)\n",
       "4       4   e142_reg_in_atl.tif   (367, 551, 22)\n",
       "5       5   e153_reg_in_atl.tif   (378, 710, 64)\n",
       "6       6       h234_in_atl.tif   (366, 527, 23)\n",
       "7       7   j316_reg_in_atl.tif   (381, 578, 27)\n",
       "8       8   j319_reg_in_atl.tif   (370, 579, 46)\n",
       "9       9  e144_cell_to_reg.tif    (103,701,339)\n",
       "10     10  e143_cell_to_reg.tif     (85,568,394)\n",
       "11     11  j319_cell_to_reg.tif  (130, 732, 372)\n",
       "12     12  j316_cell_to_reg.tif  (126, 707, 335)\n",
       "13     13   j317_reg_in_atl.tif   (387, 580, 58)\n",
       "14     14  e142_cell_to_reg.tif  (133, 694, 355)\n",
       "15     15  j317_cell_to_reg.tif  (106, 762, 331)\n",
       "16     16  e153_cell_to_reg.tif  (133, 664, 329)"
      ]
     },
     "execution_count": 128,
     "metadata": {},
     "output_type": "execute_result"
    }
   ],
   "source": [
    "max_indices_df.insert(2,)"
   ]
  },
  {
   "cell_type": "markdown",
   "id": "informational-venice",
   "metadata": {},
   "source": [
    "# for loop"
   ]
  },
  {
   "cell_type": "code",
   "execution_count": 14,
   "id": "enhanced-living",
   "metadata": {},
   "outputs": [],
   "source": [
    "?os.rename"
   ]
  },
  {
   "cell_type": "code",
   "execution_count": 17,
   "id": "assisted-vinyl",
   "metadata": {},
   "outputs": [
    {
     "name": "stderr",
     "output_type": "stream",
     "text": [
      "/Users/emilydennis/.local/lib/python3.7/site-packages/ipykernel_launcher.py:9: SettingWithCopyWarning: \n",
      "A value is trying to be set on a copy of a slice from a DataFrame\n",
      "\n",
      "See the caveats in the documentation: https://pandas.pydata.org/pandas-docs/stable/user_guide/indexing.html#returning-a-view-versus-a-copy\n",
      "  if __name__ == '__main__':\n",
      "/Users/emilydennis/.local/lib/python3.7/site-packages/ipykernel_launcher.py:10: SettingWithCopyWarning: \n",
      "A value is trying to be set on a copy of a slice from a DataFrame\n",
      "\n",
      "See the caveats in the documentation: https://pandas.pydata.org/pandas-docs/stable/user_guide/indexing.html#returning-a-view-versus-a-copy\n",
      "  # Remove the CWD from sys.path while we load stuff.\n",
      "/Users/emilydennis/.local/lib/python3.7/site-packages/ipykernel_launcher.py:11: SettingWithCopyWarning: \n",
      "A value is trying to be set on a copy of a slice from a DataFrame\n",
      "\n",
      "See the caveats in the documentation: https://pandas.pydata.org/pandas-docs/stable/user_guide/indexing.html#returning-a-view-versus-a-copy\n",
      "  # This is added back by InteractiveShellApp.init_path()\n"
     ]
    }
   ],
   "source": [
    "header='index\\n'\n",
    "numofpts = '1\\n'\n",
    "commonbase = '/Users/emilydennis/Desktop/spimout'\n",
    "\n",
    "for i in max_indices_df.index:\n",
    "    # for loop starts here\n",
    "    indices = eval(max_indices_df.indices[i])[::-1] #switch z/x\n",
    "    max_indices_df.tz[i]=indices[0]\n",
    "    max_indices_df.ty[i]=indices[1]\n",
    "    max_indices_df.tx[i]=indices[2]\n",
    "    fullname=max_indices_df.file_name[i][:-4]\n",
    "    nm=fullname[:4]\n",
    "    mv=sitk.ReadImage(os.path.join(commonbase,max_indices_df.file_name[i]))\n",
    "    filename = '/Users/emilydennis/Desktop/{}_pts.npy'.format(fullname)\n",
    "    np.save(filename,eval(max_indices_df.indices[i])[::-1])\n",
    "    \n",
    "    ptslist = str(indices)[1:-1].split(',')\n",
    "    pts = ptslist[0]+ptslist[1]+ptslist[2]+'\\n'\n",
    "    \n",
    "    file_object = open(r\"/Users/emilydennis/Desktop/spimout/{}_in.pts\".format(nm),\"a\")\n",
    "    for L in [header,numofpts,pts]: \n",
    "        file_object.write(L)\n",
    "    file_object.close()\n",
    "    \n",
    "    transformixImageFilter = sitk.TransformixImageFilter()\n",
    "    parameterMap0 = sitk.ReadParameterFile(os.path.join(commonbase,'{}/TransformParameters.0.txt').format(nm))\n",
    "    transformixImageFilter.SetMovingImage(mv)\n",
    "    transformixImageFilter.SetTransformParameterMap(parameterMap0)\n",
    "    transformixImageFilter.SetOutputDirectory('/Users/emilydennis/Desktop/spimout/')\n",
    "    transformixImageFilter.SetFixedPointSetFileName('/Users/emilydennis/Desktop/spimout/{}_in.pts'.format(nm))\n",
    "    transformixImageFilter.Execute()\n",
    "    os.rename('/Users/emilydennis/Desktop/spimout/outputpoints.txt','/Users/emilydennis/Desktop/spimout/{}_out.txt'.format(nm))"
   ]
  },
  {
   "cell_type": "code",
   "execution_count": 18,
   "id": "temporal-auction",
   "metadata": {},
   "outputs": [],
   "source": [
    "# for each element of max_in_reg_df get the indices\n",
    "# get the transform files in spimout/h234 for ex\n",
    "# transform points\n",
    "# save in new columns\n",
    "\n",
    "# first remember that images were transformed such that (x,y,z) becomes (z,y,x) "
   ]
  },
  {
   "cell_type": "code",
   "execution_count": 79,
   "id": "minor-ideal",
   "metadata": {},
   "outputs": [
    {
     "name": "stdout",
     "output_type": "stream",
     "text": [
      "/Users/emilydennis/Desktop/spimout/e144_out.txt\n",
      "/Users/emilydennis/Desktop/spimout/e144_out.txt\n",
      "/Users/emilydennis/Desktop/spimout/j316_out.txt\n",
      "/Users/emilydennis/Desktop/spimout/j316_out.txt\n",
      "/Users/emilydennis/Desktop/spimout/j317_out.txt\n",
      "/Users/emilydennis/Desktop/spimout/j317_out.txt\n",
      "/Users/emilydennis/Desktop/spimout/h234_out.txt\n",
      "/Users/emilydennis/Desktop/spimout/h234_out.txt\n",
      "/Users/emilydennis/Desktop/spimout/e142_out.txt\n",
      "/Users/emilydennis/Desktop/spimout/e142_out.txt\n",
      "/Users/emilydennis/Desktop/spimout/e153_out.txt\n",
      "/Users/emilydennis/Desktop/spimout/e153_out.txt\n",
      "/Users/emilydennis/Desktop/spimout/e143_out.txt\n",
      "/Users/emilydennis/Desktop/spimout/e143_out.txt\n",
      "/Users/emilydennis/Desktop/spimout/j319_out.txt\n",
      "/Users/emilydennis/Desktop/spimout/j319_out.txt\n",
      "/Users/emilydennis/Desktop/spimout/a253_out.txt\n",
      "/Users/emilydennis/Desktop/spimout/a253_out.txt\n"
     ]
    }
   ],
   "source": [
    "for file in glob.glob('/Users/emilydennis/Desktop/spimout/*.txt'):\n",
    "    print(file)\n",
    "    with open(file,'r') as reader:\n",
    "        print(file)"
   ]
  },
  {
   "cell_type": "code",
   "execution_count": 115,
   "id": "foreign-honor",
   "metadata": {},
   "outputs": [
    {
     "data": {
      "text/html": [
       "<div>\n",
       "<style scoped>\n",
       "    .dataframe tbody tr th:only-of-type {\n",
       "        vertical-align: middle;\n",
       "    }\n",
       "\n",
       "    .dataframe tbody tr th {\n",
       "        vertical-align: top;\n",
       "    }\n",
       "\n",
       "    .dataframe thead th {\n",
       "        text-align: right;\n",
       "    }\n",
       "</style>\n",
       "<table border=\"1\" class=\"dataframe\">\n",
       "  <thead>\n",
       "    <tr style=\"text-align: right;\">\n",
       "      <th></th>\n",
       "      <th>index</th>\n",
       "      <th>file_name</th>\n",
       "      <th>indices</th>\n",
       "      <th>tz</th>\n",
       "      <th>ty</th>\n",
       "      <th>tx</th>\n",
       "      <th>adj_z</th>\n",
       "      <th>adj_y</th>\n",
       "      <th>adj_x</th>\n",
       "    </tr>\n",
       "  </thead>\n",
       "  <tbody>\n",
       "    <tr>\n",
       "      <th>0</th>\n",
       "      <td>1</td>\n",
       "      <td>h234_cell_to_reg.tif</td>\n",
       "      <td>(141, 627, 393)</td>\n",
       "      <td>0</td>\n",
       "      <td>0</td>\n",
       "      <td>0</td>\n",
       "      <td>0</td>\n",
       "      <td>0</td>\n",
       "      <td>0</td>\n",
       "    </tr>\n",
       "    <tr>\n",
       "      <th>1</th>\n",
       "      <td>3</td>\n",
       "      <td>a253_cell_to_reg.tif</td>\n",
       "      <td>(148, 629, 333)</td>\n",
       "      <td>0</td>\n",
       "      <td>0</td>\n",
       "      <td>0</td>\n",
       "      <td>0</td>\n",
       "      <td>0</td>\n",
       "      <td>0</td>\n",
       "    </tr>\n",
       "    <tr>\n",
       "      <th>2</th>\n",
       "      <td>9</td>\n",
       "      <td>e144_cell_to_reg.tif</td>\n",
       "      <td>(103,701,339)</td>\n",
       "      <td>0</td>\n",
       "      <td>0</td>\n",
       "      <td>0</td>\n",
       "      <td>0</td>\n",
       "      <td>0</td>\n",
       "      <td>0</td>\n",
       "    </tr>\n",
       "    <tr>\n",
       "      <th>3</th>\n",
       "      <td>10</td>\n",
       "      <td>e143_cell_to_reg.tif</td>\n",
       "      <td>(85,568,394)</td>\n",
       "      <td>0</td>\n",
       "      <td>0</td>\n",
       "      <td>0</td>\n",
       "      <td>0</td>\n",
       "      <td>0</td>\n",
       "      <td>0</td>\n",
       "    </tr>\n",
       "    <tr>\n",
       "      <th>4</th>\n",
       "      <td>11</td>\n",
       "      <td>j319_cell_to_reg.tif</td>\n",
       "      <td>(130, 732, 372)</td>\n",
       "      <td>0</td>\n",
       "      <td>0</td>\n",
       "      <td>0</td>\n",
       "      <td>0</td>\n",
       "      <td>0</td>\n",
       "      <td>0</td>\n",
       "    </tr>\n",
       "    <tr>\n",
       "      <th>5</th>\n",
       "      <td>12</td>\n",
       "      <td>j316_cell_to_reg.tif</td>\n",
       "      <td>(126, 707, 335)</td>\n",
       "      <td>0</td>\n",
       "      <td>0</td>\n",
       "      <td>0</td>\n",
       "      <td>0</td>\n",
       "      <td>0</td>\n",
       "      <td>0</td>\n",
       "    </tr>\n",
       "    <tr>\n",
       "      <th>6</th>\n",
       "      <td>14</td>\n",
       "      <td>e142_cell_to_reg.tif</td>\n",
       "      <td>(133, 694, 355)</td>\n",
       "      <td>0</td>\n",
       "      <td>0</td>\n",
       "      <td>0</td>\n",
       "      <td>0</td>\n",
       "      <td>0</td>\n",
       "      <td>0</td>\n",
       "    </tr>\n",
       "    <tr>\n",
       "      <th>7</th>\n",
       "      <td>15</td>\n",
       "      <td>j317_cell_to_reg.tif</td>\n",
       "      <td>(106, 762, 331)</td>\n",
       "      <td>0</td>\n",
       "      <td>0</td>\n",
       "      <td>0</td>\n",
       "      <td>0</td>\n",
       "      <td>0</td>\n",
       "      <td>0</td>\n",
       "    </tr>\n",
       "    <tr>\n",
       "      <th>8</th>\n",
       "      <td>16</td>\n",
       "      <td>e153_cell_to_reg.tif</td>\n",
       "      <td>(133, 664, 329)</td>\n",
       "      <td>0</td>\n",
       "      <td>0</td>\n",
       "      <td>0</td>\n",
       "      <td>0</td>\n",
       "      <td>0</td>\n",
       "      <td>0</td>\n",
       "    </tr>\n",
       "  </tbody>\n",
       "</table>\n",
       "</div>"
      ],
      "text/plain": [
       "   index             file_name          indices  tz  ty  tx  adj_z  adj_y  \\\n",
       "0      1  h234_cell_to_reg.tif  (141, 627, 393)   0   0   0      0      0   \n",
       "1      3  a253_cell_to_reg.tif  (148, 629, 333)   0   0   0      0      0   \n",
       "2      9  e144_cell_to_reg.tif    (103,701,339)   0   0   0      0      0   \n",
       "3     10  e143_cell_to_reg.tif     (85,568,394)   0   0   0      0      0   \n",
       "4     11  j319_cell_to_reg.tif  (130, 732, 372)   0   0   0      0      0   \n",
       "5     12  j316_cell_to_reg.tif  (126, 707, 335)   0   0   0      0      0   \n",
       "6     14  e142_cell_to_reg.tif  (133, 694, 355)   0   0   0      0      0   \n",
       "7     15  j317_cell_to_reg.tif  (106, 762, 331)   0   0   0      0      0   \n",
       "8     16  e153_cell_to_reg.tif  (133, 664, 329)   0   0   0      0      0   \n",
       "\n",
       "   adj_x  \n",
       "0      0  \n",
       "1      0  \n",
       "2      0  \n",
       "3      0  \n",
       "4      0  \n",
       "5      0  \n",
       "6      0  \n",
       "7      0  \n",
       "8      0  "
      ]
     },
     "execution_count": 115,
     "metadata": {},
     "output_type": "execute_result"
    }
   ],
   "source": []
  },
  {
   "cell_type": "code",
   "execution_count": 136,
   "id": "instant-filter",
   "metadata": {},
   "outputs": [],
   "source": [
    "# make into a for looping over _out.txt files and extracting info\n",
    "alldata=[]\n",
    "for file in glob.glob('/Users/emilydennis/Desktop/spimout/*_out.txt'):\n",
    "    f=open(file,'r')\n",
    "    data=[]\n",
    "    for ff in f.readline().split('; '):\n",
    "        if \"OutputIndexMoving\" in ff:\n",
    "            for i in ff.split():\n",
    "                if i.isdigit():\n",
    "                    data.append(int(i))\n",
    "    alldata.append([file,data[0],data[1],data[2]])\n",
    "    f.close()\n",
    "\n",
    "alldata_df=pd.DataFrame(alldata,columns=['filename','x','y','z'])"
   ]
  },
  {
   "cell_type": "code",
   "execution_count": 240,
   "id": "moving-photography",
   "metadata": {},
   "outputs": [
    {
     "data": {
      "text/plain": [
       "<matplotlib.collections.PathCollection at 0x7f8743654198>"
      ]
     },
     "execution_count": 240,
     "metadata": {},
     "output_type": "execute_result"
    },
    {
     "data": {
      "image/png": "[encoded data removed]",
      "text/plain": [
       "<Figure size 432x288 with 1 Axes>"
      ]
     },
     "metadata": {
      "needs_background": "light"
     },
     "output_type": "display_data"
    }
   ],
   "source": [
    "plt.imshow(np.max(mpra,axis=2),cmap='gray')\n",
    "plt.scatter(alldata_df.y[4],alldata_df.x[3],c='w')"
   ]
  },
  {
   "cell_type": "code",
   "execution_count": 241,
   "id": "legal-repository",
   "metadata": {},
   "outputs": [
    {
     "data": {
      "text/html": [
       "<div>\n",
       "<style scoped>\n",
       "    .dataframe tbody tr th:only-of-type {\n",
       "        vertical-align: middle;\n",
       "    }\n",
       "\n",
       "    .dataframe tbody tr th {\n",
       "        vertical-align: top;\n",
       "    }\n",
       "\n",
       "    .dataframe thead th {\n",
       "        text-align: right;\n",
       "    }\n",
       "</style>\n",
       "<table border=\"1\" class=\"dataframe\">\n",
       "  <thead>\n",
       "    <tr style=\"text-align: right;\">\n",
       "      <th></th>\n",
       "      <th>filename</th>\n",
       "      <th>x</th>\n",
       "      <th>y</th>\n",
       "      <th>z</th>\n",
       "    </tr>\n",
       "  </thead>\n",
       "  <tbody>\n",
       "    <tr>\n",
       "      <th>0</th>\n",
       "      <td>/Users/emilydennis/Desktop/spimout/e144_out.txt</td>\n",
       "      <td>351</td>\n",
       "      <td>237</td>\n",
       "      <td>342</td>\n",
       "    </tr>\n",
       "    <tr>\n",
       "      <th>1</th>\n",
       "      <td>/Users/emilydennis/Desktop/spimout/j316_out.txt</td>\n",
       "      <td>209</td>\n",
       "      <td>603</td>\n",
       "      <td>148</td>\n",
       "    </tr>\n",
       "    <tr>\n",
       "      <th>2</th>\n",
       "      <td>/Users/emilydennis/Desktop/spimout/j317_out.txt</td>\n",
       "      <td>217</td>\n",
       "      <td>606</td>\n",
       "      <td>179</td>\n",
       "    </tr>\n",
       "    <tr>\n",
       "      <th>3</th>\n",
       "      <td>/Users/emilydennis/Desktop/spimout/h234_out.txt</td>\n",
       "      <td>390</td>\n",
       "      <td>650</td>\n",
       "      <td>166</td>\n",
       "    </tr>\n",
       "    <tr>\n",
       "      <th>4</th>\n",
       "      <td>/Users/emilydennis/Desktop/spimout/e142_out.txt</td>\n",
       "      <td>240</td>\n",
       "      <td>547</td>\n",
       "      <td>185</td>\n",
       "    </tr>\n",
       "    <tr>\n",
       "      <th>5</th>\n",
       "      <td>/Users/emilydennis/Desktop/spimout/e153_out.txt</td>\n",
       "      <td>220</td>\n",
       "      <td>601</td>\n",
       "      <td>178</td>\n",
       "    </tr>\n",
       "    <tr>\n",
       "      <th>6</th>\n",
       "      <td>/Users/emilydennis/Desktop/spimout/e143_out.txt</td>\n",
       "      <td>250</td>\n",
       "      <td>571</td>\n",
       "      <td>145</td>\n",
       "    </tr>\n",
       "    <tr>\n",
       "      <th>7</th>\n",
       "      <td>/Users/emilydennis/Desktop/spimout/j319_out.txt</td>\n",
       "      <td>252</td>\n",
       "      <td>584</td>\n",
       "      <td>194</td>\n",
       "    </tr>\n",
       "    <tr>\n",
       "      <th>8</th>\n",
       "      <td>/Users/emilydennis/Desktop/spimout/a253_out.txt</td>\n",
       "      <td>190</td>\n",
       "      <td>596</td>\n",
       "      <td>87</td>\n",
       "    </tr>\n",
       "  </tbody>\n",
       "</table>\n",
       "</div>"
      ],
      "text/plain": [
       "                                          filename    x    y    z\n",
       "0  /Users/emilydennis/Desktop/spimout/e144_out.txt  351  237  342\n",
       "1  /Users/emilydennis/Desktop/spimout/j316_out.txt  209  603  148\n",
       "2  /Users/emilydennis/Desktop/spimout/j317_out.txt  217  606  179\n",
       "3  /Users/emilydennis/Desktop/spimout/h234_out.txt  390  650  166\n",
       "4  /Users/emilydennis/Desktop/spimout/e142_out.txt  240  547  185\n",
       "5  /Users/emilydennis/Desktop/spimout/e153_out.txt  220  601  178\n",
       "6  /Users/emilydennis/Desktop/spimout/e143_out.txt  250  571  145\n",
       "7  /Users/emilydennis/Desktop/spimout/j319_out.txt  252  584  194\n",
       "8  /Users/emilydennis/Desktop/spimout/a253_out.txt  190  596   87"
      ]
     },
     "execution_count": 241,
     "metadata": {},
     "output_type": "execute_result"
    }
   ],
   "source": [
    "alldata_df"
   ]
  },
  {
   "cell_type": "code",
   "execution_count": 242,
   "id": "acceptable-assessment",
   "metadata": {},
   "outputs": [],
   "source": [
    "h234_cell = tif.imread('/Users/emilydennis/Desktop/spimout/e142_cell_to_reg.tif')\n",
    "h234_reg = tif.imread('/Users/emilydennis/Desktop/spimout/e142_reg_in_atl.tif')"
   ]
  },
  {
   "cell_type": "code",
   "execution_count": 243,
   "id": "twenty-crash",
   "metadata": {},
   "outputs": [
    {
     "data": {
      "text/plain": [
       "<matplotlib.image.AxesImage at 0x7f8743593c50>"
      ]
     },
     "execution_count": 243,
     "metadata": {},
     "output_type": "execute_result"
    },
    {
     "data": {
      "image/png": "[encoded data removed]",
      "text/plain": [
       "<Figure size 432x288 with 1 Axes>"
      ]
     },
     "metadata": {
      "needs_background": "light"
     },
     "output_type": "display_data"
    }
   ],
   "source": [
    "plt.imshow(np.max(h234_reg,axis=2),cmap='gray_r')"
   ]
  },
  {
   "cell_type": "code",
   "execution_count": 261,
   "id": "digital-kidney",
   "metadata": {},
   "outputs": [
    {
     "data": {
      "text/plain": [
       "<matplotlib.image.AxesImage at 0x7f8742a26860>"
      ]
     },
     "execution_count": 261,
     "metadata": {},
     "output_type": "execute_result"
    },
    {
     "data": {
      "image/png": "[encoded data removed]",
      "text/plain": [
       "<Figure size 432x288 with 1 Axes>"
      ]
     },
     "metadata": {
      "needs_background": "light"
     },
     "output_type": "display_data"
    }
   ],
   "source": [
    "plt.imshow(h234_reg[:,:,70],cmap='gray_r')"
   ]
  },
  {
   "cell_type": "code",
   "execution_count": 5,
   "id": "fiscal-senate",
   "metadata": {},
   "outputs": [],
   "source": [
    "x = pd.read_csv('/Users/emilydennis/Desktop/lightsheet/cm2_max_indices.csv')"
   ]
  },
  {
   "cell_type": "code",
   "execution_count": 29,
   "id": "serial-barrier",
   "metadata": {},
   "outputs": [
    {
     "name": "stdout",
     "output_type": "stream",
     "text": [
      "(365, 541, 40)\n",
      "(141, 627, 393)\n",
      "(385, 533, 41)\n",
      "(148, 629, 333)\n",
      "(367, 551, 22)\n",
      "(378, 710, 64)\n",
      "(366, 527, 23)\n",
      "(483, 426, 151)\n",
      "(370, 579, 46)\n",
      "(18, 694, 342)\n",
      "(40, 565, 400)\n",
      "(130, 732, 372)\n",
      "(126, 707, 335)\n",
      "(387, 580, 58)\n",
      "(133, 694, 355)\n",
      "(106, 762, 331)\n",
      "(133, 664, 329)\n"
     ]
    }
   ],
   "source": [
    "for i in x.indices:\n",
    "    print(eval(i))"
   ]
  },
  {
   "cell_type": "code",
   "execution_count": 35,
   "id": "surrounded-lingerie",
   "metadata": {},
   "outputs": [],
   "source": [
    "testx = []\n",
    "testy = []\n",
    "testz = []\n",
    "\n",
    "for i in x.indices:\n",
    "    testx.append(eval(i)[0])\n",
    "    testy.append(eval(i)[1])\n",
    "    testz.append(eval(i)[2])"
   ]
  },
  {
   "cell_type": "code",
   "execution_count": 31,
   "id": "ideal-signal",
   "metadata": {},
   "outputs": [],
   "source": [
    "from mpl_toolkits import mplot3d"
   ]
  },
  {
   "cell_type": "code",
   "execution_count": 41,
   "id": "listed-monte",
   "metadata": {},
   "outputs": [
    {
     "data": {
      "text/plain": [
       "<mpl_toolkits.mplot3d.art3d.Path3DCollection at 0x7f8ad9268320>"
      ]
     },
     "execution_count": 41,
     "metadata": {},
     "output_type": "execute_result"
    },
    {
     "data": {
      "image/png": "[encoded data removed]",
      "text/plain": [
       "<Figure size 432x288 with 1 Axes>"
      ]
     },
     "metadata": {
      "needs_background": "light"
     },
     "output_type": "display_data"
    }
   ],
   "source": [
    "ax = plt.axes(projection='3d')\n",
    "ax.scatter3D(testx,testz,testy,c=testy)"
   ]
  },
  {
   "cell_type": "code",
   "execution_count": 45,
   "id": "applicable-conversation",
   "metadata": {},
   "outputs": [
    {
     "data": {
      "text/plain": [
       "<matplotlib.collections.PathCollection at 0x7f8ad920c7f0>"
      ]
     },
     "execution_count": 45,
     "metadata": {},
     "output_type": "execute_result"
    },
    {
     "data": {
      "image/png": "[encoded data removed]",
      "text/plain": [
       "<Figure size 432x288 with 1 Axes>"
      ]
     },
     "metadata": {
      "needs_background": "light"
     },
     "output_type": "display_data"
    }
   ],
   "source": [
    "plt.scatter(testz,testx)"
   ]
  },
  {
   "cell_type": "code",
   "execution_count": 47,
   "id": "prescription-stylus",
   "metadata": {},
   "outputs": [
    {
     "data": {
      "text/plain": [
       "<matplotlib.collections.PathCollection at 0x7f8ad97dfe10>"
      ]
     },
     "execution_count": 47,
     "metadata": {},
     "output_type": "execute_result"
    },
    {
     "data": {
      "image/png": "[encoded data removed]",
      "text/plain": [
       "<Figure size 432x288 with 1 Axes>"
      ]
     },
     "metadata": {
      "needs_background": "light"
     },
     "output_type": "display_data"
    }
   ],
   "source": [
    "plt.scatter(testy,testx)"
   ]
  },
  {
   "cell_type": "code",
   "execution_count": 48,
   "id": "relative-offense",
   "metadata": {},
   "outputs": [
    {
     "data": {
      "text/plain": [
       "<matplotlib.collections.PathCollection at 0x7f8ad987fba8>"
      ]
     },
     "execution_count": 48,
     "metadata": {},
     "output_type": "execute_result"
    },
    {
     "data": {
      "image/png": "[encoded data removed]",
      "text/plain": [
       "<Figure size 432x288 with 1 Axes>"
      ]
     },
     "metadata": {
      "needs_background": "light"
     },
     "output_type": "display_data"
    }
   ],
   "source": [
    "plt.scatter(testy,testz)"
   ]
  },
  {
   "cell_type": "code",
   "execution_count": 161,
   "id": "patent-corpus",
   "metadata": {},
   "outputs": [],
   "source": [
    "mpra=tif.imread('/Users/emilydennis/Desktop/lightsheet/mPRA_adj.tif')\n"
   ]
  },
  {
   "cell_type": "code",
   "execution_count": 60,
   "id": "exempt-airplane",
   "metadata": {},
   "outputs": [
    {
     "data": {
      "text/html": [
       "<div>\n",
       "<style scoped>\n",
       "    .dataframe tbody tr th:only-of-type {\n",
       "        vertical-align: middle;\n",
       "    }\n",
       "\n",
       "    .dataframe tbody tr th {\n",
       "        vertical-align: top;\n",
       "    }\n",
       "\n",
       "    .dataframe thead th {\n",
       "        text-align: right;\n",
       "    }\n",
       "</style>\n",
       "<table border=\"1\" class=\"dataframe\">\n",
       "  <thead>\n",
       "    <tr style=\"text-align: right;\">\n",
       "      <th></th>\n",
       "      <th>Unnamed: 0</th>\n",
       "      <th>file_name</th>\n",
       "      <th>indices</th>\n",
       "    </tr>\n",
       "  </thead>\n",
       "  <tbody>\n",
       "    <tr>\n",
       "      <th>0</th>\n",
       "      <td>0</td>\n",
       "      <td>e143_reg_in_atl.tif</td>\n",
       "      <td>(365, 541, 40)</td>\n",
       "    </tr>\n",
       "    <tr>\n",
       "      <th>1</th>\n",
       "      <td>1</td>\n",
       "      <td>h234_cell_to_reg.tif</td>\n",
       "      <td>(141, 627, 393)</td>\n",
       "    </tr>\n",
       "    <tr>\n",
       "      <th>2</th>\n",
       "      <td>2</td>\n",
       "      <td>e144_reg_in_atl.tif</td>\n",
       "      <td>(385, 533, 41)</td>\n",
       "    </tr>\n",
       "    <tr>\n",
       "      <th>3</th>\n",
       "      <td>3</td>\n",
       "      <td>a253_cell_to_reg.tif</td>\n",
       "      <td>(148, 629, 333)</td>\n",
       "    </tr>\n",
       "    <tr>\n",
       "      <th>4</th>\n",
       "      <td>4</td>\n",
       "      <td>e142_reg_in_atl.tif</td>\n",
       "      <td>(367, 551, 22)</td>\n",
       "    </tr>\n",
       "    <tr>\n",
       "      <th>5</th>\n",
       "      <td>5</td>\n",
       "      <td>e153_reg_in_atl.tif</td>\n",
       "      <td>(378, 710, 64)</td>\n",
       "    </tr>\n",
       "    <tr>\n",
       "      <th>6</th>\n",
       "      <td>6</td>\n",
       "      <td>h234_in_atl.tif</td>\n",
       "      <td>(366, 527, 23)</td>\n",
       "    </tr>\n",
       "    <tr>\n",
       "      <th>7</th>\n",
       "      <td>7</td>\n",
       "      <td>j316_reg_in_atl.tif</td>\n",
       "      <td>(483, 426, 151)</td>\n",
       "    </tr>\n",
       "    <tr>\n",
       "      <th>8</th>\n",
       "      <td>8</td>\n",
       "      <td>j319_reg_in_atl.tif</td>\n",
       "      <td>(370, 579, 46)</td>\n",
       "    </tr>\n",
       "    <tr>\n",
       "      <th>9</th>\n",
       "      <td>9</td>\n",
       "      <td>e144_cell_to_reg.tif</td>\n",
       "      <td>(18, 694, 342)</td>\n",
       "    </tr>\n",
       "    <tr>\n",
       "      <th>10</th>\n",
       "      <td>10</td>\n",
       "      <td>e143_cell_to_reg.tif</td>\n",
       "      <td>(40, 565, 400)</td>\n",
       "    </tr>\n",
       "    <tr>\n",
       "      <th>11</th>\n",
       "      <td>11</td>\n",
       "      <td>j319_cell_to_reg.tif</td>\n",
       "      <td>(130, 732, 372)</td>\n",
       "    </tr>\n",
       "    <tr>\n",
       "      <th>12</th>\n",
       "      <td>12</td>\n",
       "      <td>j316_cell_to_reg.tif</td>\n",
       "      <td>(126, 707, 335)</td>\n",
       "    </tr>\n",
       "    <tr>\n",
       "      <th>13</th>\n",
       "      <td>13</td>\n",
       "      <td>j317_reg_in_atl.tif</td>\n",
       "      <td>(387, 580, 58)</td>\n",
       "    </tr>\n",
       "    <tr>\n",
       "      <th>14</th>\n",
       "      <td>14</td>\n",
       "      <td>e142_cell_to_reg.tif</td>\n",
       "      <td>(133, 694, 355)</td>\n",
       "    </tr>\n",
       "    <tr>\n",
       "      <th>15</th>\n",
       "      <td>15</td>\n",
       "      <td>j317_cell_to_reg.tif</td>\n",
       "      <td>(106, 762, 331)</td>\n",
       "    </tr>\n",
       "    <tr>\n",
       "      <th>16</th>\n",
       "      <td>16</td>\n",
       "      <td>e153_cell_to_reg.tif</td>\n",
       "      <td>(133, 664, 329)</td>\n",
       "    </tr>\n",
       "  </tbody>\n",
       "</table>\n",
       "</div>"
      ],
      "text/plain": [
       "    Unnamed: 0             file_name          indices\n",
       "0            0   e143_reg_in_atl.tif   (365, 541, 40)\n",
       "1            1  h234_cell_to_reg.tif  (141, 627, 393)\n",
       "2            2   e144_reg_in_atl.tif   (385, 533, 41)\n",
       "3            3  a253_cell_to_reg.tif  (148, 629, 333)\n",
       "4            4   e142_reg_in_atl.tif   (367, 551, 22)\n",
       "5            5   e153_reg_in_atl.tif   (378, 710, 64)\n",
       "6            6       h234_in_atl.tif   (366, 527, 23)\n",
       "7            7   j316_reg_in_atl.tif  (483, 426, 151)\n",
       "8            8   j319_reg_in_atl.tif   (370, 579, 46)\n",
       "9            9  e144_cell_to_reg.tif   (18, 694, 342)\n",
       "10          10  e143_cell_to_reg.tif   (40, 565, 400)\n",
       "11          11  j319_cell_to_reg.tif  (130, 732, 372)\n",
       "12          12  j316_cell_to_reg.tif  (126, 707, 335)\n",
       "13          13   j317_reg_in_atl.tif   (387, 580, 58)\n",
       "14          14  e142_cell_to_reg.tif  (133, 694, 355)\n",
       "15          15  j317_cell_to_reg.tif  (106, 762, 331)\n",
       "16          16  e153_cell_to_reg.tif  (133, 664, 329)"
      ]
     },
     "execution_count": 60,
     "metadata": {},
     "output_type": "execute_result"
    }
   ],
   "source": []
  },
  {
   "cell_type": "code",
   "execution_count": null,
   "id": "corrected-management",
   "metadata": {},
   "outputs": [],
   "source": []
  }
 ],
 "metadata": {
  "kernelspec": {
   "display_name": "Python 3",
   "language": "python",
   "name": "python3"
  },
  "language_info": {
   "codemirror_mode": {
    "name": "ipython",
    "version": 3
   },
   "file_extension": ".py",
   "mimetype": "text/x-python",
   "name": "python",
   "nbconvert_exporter": "python",
   "pygments_lexer": "ipython3",
   "version": "3.7.3"
  },
  "toc": {
   "base_numbering": 1,
   "nav_menu": {},
   "number_sections": true,
   "sideBar": true,
   "skip_h1_title": false,
   "title_cell": "Table of Contents",
   "title_sidebar": "Contents",
   "toc_cell": false,
   "toc_position": {},
   "toc_section_display": true,
   "toc_window_display": false
  }
 },
 "nbformat": 4,
 "nbformat_minor": 5
}
